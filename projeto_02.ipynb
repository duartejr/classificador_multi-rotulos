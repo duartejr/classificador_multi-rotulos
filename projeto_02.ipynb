{
 "cells": [
  {
   "cell_type": "markdown",
   "metadata": {},
   "source": [
    "# Classificador multi-rótulo - arXiv Paper Abstract"
   ]
  },
  {
   "cell_type": "markdown",
   "metadata": {},
   "source": [
    "## arXiv Paper Abstract - Kaggle\n",
    "\n",
    "Este é um conjunto de artigos contidos no arXiv com múltiplo rótulos.\n"
   ]
  },
  {
   "cell_type": "markdown",
   "metadata": {},
   "source": [
    "## Exercícios\n"
   ]
  },
  {
   "cell_type": "markdown",
   "metadata": {},
   "source": [
    "### Questão 1) Faça a leitura dos dados e implemente rotinas de pré-processamento:\n"
   ]
  },
  {
   "cell_type": "markdown",
   "metadata": {},
   "source": [
    "#### a) Implemente e justifique suas ações em relação ao tratamento dos rótulos \n"
   ]
  },
  {
   "cell_type": "markdown",
   "metadata": {},
   "source": [
    "O primeiro passo é importar a biblioteca do pandas e realizar a leitura do arquivo. Nesta etapa já faço a remoção de valores duplicados."
   ]
  },
  {
   "cell_type": "code",
   "execution_count": 93,
   "metadata": {},
   "outputs": [],
   "source": [
    "import pandas as pd\n",
    "\n",
    "data = pd.read_csv('arxiv_data.csv')\n",
    "data = data.drop_duplicates().reset_index()"
   ]
  },
  {
   "cell_type": "markdown",
   "metadata": {},
   "source": [
    "Os rótulos dos artigos estão na coluna `terms`. O valores desta coluna estão sendo reconhedidos como `str` porém o conteúdo de cada célula trata-se de lista de termos."
   ]
  },
  {
   "cell_type": "code",
   "execution_count": 57,
   "metadata": {},
   "outputs": [
    {
     "name": "stdout",
     "output_type": "stream",
     "text": [
      "<class 'str'>\n"
     ]
    }
   ],
   "source": [
    "print(type(data.terms[0]))"
   ]
  },
  {
   "cell_type": "code",
   "execution_count": 58,
   "metadata": {},
   "outputs": [
    {
     "name": "stdout",
     "output_type": "stream",
     "text": [
      "['cs.CV', 'cs.LG']\n"
     ]
    }
   ],
   "source": [
    "print(data['terms'][0])"
   ]
  },
  {
   "cell_type": "markdown",
   "metadata": {},
   "source": [
    "Para resolver este problema implementei a função `get_terms_list`. Esta função irá converter as strings para listas. Esta conversão é necessária para que o algortimo consiga reconhecer todas as categorias as quais um artigo pertence adequadamente.\n",
    "\n",
    "Para selecionar todas as categorias corretaments utilizei uma regex que seleciona o padrão \"texto.texto\" em cada uma das linhas do dataset."
   ]
  },
  {
   "cell_type": "code",
   "execution_count": 59,
   "metadata": {},
   "outputs": [
    {
     "name": "stdout",
     "output_type": "stream",
     "text": [
      "<class 'list'>\n"
     ]
    }
   ],
   "source": [
    "import re\n",
    "\n",
    "def get_terms_list(terms):\n",
    "    terms_list = []\n",
    "    for terms in data.terms:\n",
    "        terms = re.findall('\\w+.\\w+', terms)  # regex \n",
    "        terms_list.append(terms)\n",
    "    return terms_list\n",
    "\n",
    "data['terms'] = get_terms_list(data['terms'])\n",
    "\n",
    "print(type(data.terms[0]))"
   ]
  },
  {
   "cell_type": "markdown",
   "metadata": {},
   "source": [
    "Com as categorias em formato de lista o próximo passo é aplicatar a transformação MultiLabelBinarizer para ter-se uma matriz na qual cada coluna representa uma categoria existente."
   ]
  },
  {
   "cell_type": "code",
   "execution_count": 60,
   "metadata": {},
   "outputs": [
    {
     "data": {
      "text/html": [
       "<div>\n",
       "<style scoped>\n",
       "    .dataframe tbody tr th:only-of-type {\n",
       "        vertical-align: middle;\n",
       "    }\n",
       "\n",
       "    .dataframe tbody tr th {\n",
       "        vertical-align: top;\n",
       "    }\n",
       "\n",
       "    .dataframe thead th {\n",
       "        text-align: right;\n",
       "    }\n",
       "</style>\n",
       "<table border=\"1\" class=\"dataframe\">\n",
       "  <thead>\n",
       "    <tr style=\"text-align: right;\">\n",
       "      <th></th>\n",
       "      <th>0.b</th>\n",
       "      <th>00-02</th>\n",
       "      <th>00B25</th>\n",
       "      <th>00Bxx</th>\n",
       "      <th>03-04</th>\n",
       "      <th>03B52</th>\n",
       "      <th>03B65</th>\n",
       "      <th>03B70</th>\n",
       "      <th>03D10</th>\n",
       "      <th>03G10</th>\n",
       "      <th>...</th>\n",
       "      <th>stat.AP</th>\n",
       "      <th>stat.CO</th>\n",
       "      <th>stat.ME</th>\n",
       "      <th>stat.ML</th>\n",
       "      <th>stat.OT</th>\n",
       "      <th>stat.TH</th>\n",
       "      <th>str-el</th>\n",
       "      <th>tells us</th>\n",
       "      <th>their Gait</th>\n",
       "      <th>using any</th>\n",
       "    </tr>\n",
       "  </thead>\n",
       "  <tbody>\n",
       "    <tr>\n",
       "      <th>0</th>\n",
       "      <td>0</td>\n",
       "      <td>0</td>\n",
       "      <td>0</td>\n",
       "      <td>0</td>\n",
       "      <td>0</td>\n",
       "      <td>0</td>\n",
       "      <td>0</td>\n",
       "      <td>0</td>\n",
       "      <td>0</td>\n",
       "      <td>0</td>\n",
       "      <td>...</td>\n",
       "      <td>0</td>\n",
       "      <td>0</td>\n",
       "      <td>0</td>\n",
       "      <td>0</td>\n",
       "      <td>0</td>\n",
       "      <td>0</td>\n",
       "      <td>0</td>\n",
       "      <td>0</td>\n",
       "      <td>0</td>\n",
       "      <td>0</td>\n",
       "    </tr>\n",
       "    <tr>\n",
       "      <th>1</th>\n",
       "      <td>0</td>\n",
       "      <td>0</td>\n",
       "      <td>0</td>\n",
       "      <td>0</td>\n",
       "      <td>0</td>\n",
       "      <td>0</td>\n",
       "      <td>0</td>\n",
       "      <td>0</td>\n",
       "      <td>0</td>\n",
       "      <td>0</td>\n",
       "      <td>...</td>\n",
       "      <td>0</td>\n",
       "      <td>0</td>\n",
       "      <td>0</td>\n",
       "      <td>0</td>\n",
       "      <td>0</td>\n",
       "      <td>0</td>\n",
       "      <td>0</td>\n",
       "      <td>0</td>\n",
       "      <td>0</td>\n",
       "      <td>0</td>\n",
       "    </tr>\n",
       "    <tr>\n",
       "      <th>2</th>\n",
       "      <td>0</td>\n",
       "      <td>0</td>\n",
       "      <td>0</td>\n",
       "      <td>0</td>\n",
       "      <td>0</td>\n",
       "      <td>0</td>\n",
       "      <td>0</td>\n",
       "      <td>0</td>\n",
       "      <td>0</td>\n",
       "      <td>0</td>\n",
       "      <td>...</td>\n",
       "      <td>0</td>\n",
       "      <td>0</td>\n",
       "      <td>0</td>\n",
       "      <td>0</td>\n",
       "      <td>0</td>\n",
       "      <td>0</td>\n",
       "      <td>0</td>\n",
       "      <td>0</td>\n",
       "      <td>0</td>\n",
       "      <td>0</td>\n",
       "    </tr>\n",
       "    <tr>\n",
       "      <th>3</th>\n",
       "      <td>0</td>\n",
       "      <td>0</td>\n",
       "      <td>0</td>\n",
       "      <td>0</td>\n",
       "      <td>0</td>\n",
       "      <td>0</td>\n",
       "      <td>0</td>\n",
       "      <td>0</td>\n",
       "      <td>0</td>\n",
       "      <td>0</td>\n",
       "      <td>...</td>\n",
       "      <td>0</td>\n",
       "      <td>0</td>\n",
       "      <td>0</td>\n",
       "      <td>0</td>\n",
       "      <td>0</td>\n",
       "      <td>0</td>\n",
       "      <td>0</td>\n",
       "      <td>0</td>\n",
       "      <td>0</td>\n",
       "      <td>0</td>\n",
       "    </tr>\n",
       "    <tr>\n",
       "      <th>4</th>\n",
       "      <td>0</td>\n",
       "      <td>0</td>\n",
       "      <td>0</td>\n",
       "      <td>0</td>\n",
       "      <td>0</td>\n",
       "      <td>0</td>\n",
       "      <td>0</td>\n",
       "      <td>0</td>\n",
       "      <td>0</td>\n",
       "      <td>0</td>\n",
       "      <td>...</td>\n",
       "      <td>0</td>\n",
       "      <td>0</td>\n",
       "      <td>0</td>\n",
       "      <td>0</td>\n",
       "      <td>0</td>\n",
       "      <td>0</td>\n",
       "      <td>0</td>\n",
       "      <td>0</td>\n",
       "      <td>0</td>\n",
       "      <td>0</td>\n",
       "    </tr>\n",
       "  </tbody>\n",
       "</table>\n",
       "<p>5 rows × 638 columns</p>\n",
       "</div>"
      ],
      "text/plain": [
       "   0.b  00-02  00B25  00Bxx  03-04  03B52  03B65  03B70  03D10  03G10  ...  \\\n",
       "0    0      0      0      0      0      0      0      0      0      0  ...   \n",
       "1    0      0      0      0      0      0      0      0      0      0  ...   \n",
       "2    0      0      0      0      0      0      0      0      0      0  ...   \n",
       "3    0      0      0      0      0      0      0      0      0      0  ...   \n",
       "4    0      0      0      0      0      0      0      0      0      0  ...   \n",
       "\n",
       "   stat.AP  stat.CO  stat.ME  stat.ML  stat.OT  stat.TH  str-el  tells us  \\\n",
       "0        0        0        0        0        0        0       0         0   \n",
       "1        0        0        0        0        0        0       0         0   \n",
       "2        0        0        0        0        0        0       0         0   \n",
       "3        0        0        0        0        0        0       0         0   \n",
       "4        0        0        0        0        0        0       0         0   \n",
       "\n",
       "   their Gait  using any  \n",
       "0           0          0  \n",
       "1           0          0  \n",
       "2           0          0  \n",
       "3           0          0  \n",
       "4           0          0  \n",
       "\n",
       "[5 rows x 638 columns]"
      ]
     },
     "execution_count": 60,
     "metadata": {},
     "output_type": "execute_result"
    }
   ],
   "source": [
    "from sklearn.preprocessing import MultiLabelBinarizer\n",
    "mlb = MultiLabelBinarizer()\n",
    "\n",
    "mlb.fit(data['terms'])            \n",
    "y = mlb.transform(data['terms'])\n",
    "\n",
    "y = pd.DataFrame(y, columns = mlb.classes_)\n",
    "y.head()"
   ]
  },
  {
   "cell_type": "markdown",
   "metadata": {},
   "source": [
    "O próximo passo é manter os termos que aparecem uma quantidade mínima de vezes no conjunto de dados. Aqui vou escolher aqueles que aparecem pelo menos 100 vezes. O que equivale a aproximadamente 0,26% dos registros disponíveis."
   ]
  },
  {
   "cell_type": "code",
   "execution_count": 61,
   "metadata": {},
   "outputs": [],
   "source": [
    "def select_papers(data, y, freq_min=100):\n",
    "    count_occurences = y.sum()\n",
    "    cols_to_keep = count_occurences[count_occurences >= freq_min].index.values[:]\n",
    "    y = y[cols_to_keep]\n",
    "\n",
    "    terms_by_row = y.sum(axis=1)\n",
    "    rows_to_keep = terms_by_row.index[terms_by_row >= 1]\n",
    "    y = y.loc[rows_to_keep]\n",
    "    data = data.loc[rows_to_keep]\n",
    "\n",
    "    return data, y\n",
    "\n",
    "data, y = select_papers(data, y)"
   ]
  },
  {
   "cell_type": "markdown",
   "metadata": {},
   "source": [
    "#### b) Implemente e justifique suas ações em relação aos dados (titles e abstracts) \n"
   ]
  },
  {
   "cell_type": "markdown",
   "metadata": {},
   "source": [
    "Para os titles a abstracts será feita a redução de dimensionalidade. As palavras serão colocadas todas em minúsculas para normalizar o texto. Serão removidas as stopwords, depois aplicarei a lemmatização e stems. Todas estas etapas contribuiram para a remoção de conteúdo irrelevante para a classificação do texto e melhora da eficiência computacional."
   ]
  },
  {
   "cell_type": "code",
   "execution_count": 62,
   "metadata": {},
   "outputs": [],
   "source": [
    "from nltk import RegexpTokenizer\n",
    "from nltk.corpus import stopwords\n",
    "from nltk.stem import WordNetLemmatizer\n",
    "from nltk.stem import PorterStemmer\n",
    "\n",
    "stop_words = stopwords.words('english')\n",
    "lemmatizer = WordNetLemmatizer()\n",
    "stemmer = PorterStemmer()\n",
    "tokenizer = RegexpTokenizer(r\"\\w+\")\n",
    "\n",
    "def remove_stopwords(tokens):               # Remove as stopwords\n",
    "    tokens_cleaned = []\n",
    "    for token in tokens:\n",
    "        if token not in stop_words:\n",
    "            tokens_cleaned.append(token)\n",
    "    return tokens_cleaned\n",
    "\n",
    "def normalize(text):\n",
    "    text = text.lower()                     # passa o texto para minúsculas\n",
    "    tokens = tokenizer.tokenize(text)       # separa o texto em tokens removendo pontuação\n",
    "    tokens = remove_stopwords(tokens)       # remove as stopwords\n",
    "    tokens_processed = []\n",
    "    for token in tokens:\n",
    "        token = lemmatizer.lemmatize(token) # extrai os lemmas\n",
    "        token = stemmer.stem(token)         # remove sufixos e prefixos\n",
    "        tokens_processed.append(token)\n",
    "    return tokens_processed"
   ]
  },
  {
   "cell_type": "markdown",
   "metadata": {},
   "source": [
    "Normalização dos títulos"
   ]
  },
  {
   "cell_type": "code",
   "execution_count": 63,
   "metadata": {},
   "outputs": [],
   "source": [
    "def config_titles(text):\n",
    "    return ' '.join(normalize(text))\n",
    "\n",
    "titles = data.titles.apply(config_titles)"
   ]
  },
  {
   "cell_type": "markdown",
   "metadata": {},
   "source": [
    "Normalizaçãod dos resumos."
   ]
  },
  {
   "cell_type": "code",
   "execution_count": 64,
   "metadata": {},
   "outputs": [],
   "source": [
    "def config_summary(text):\n",
    "    return ' '.join(normalize(text))\n",
    "\n",
    "summaries = data.summaries.apply(config_summary)"
   ]
  },
  {
   "cell_type": "markdown",
   "metadata": {},
   "source": [
    "### Questão 2) Faça uma análise visual do dataset após o pré-processamento. Explore gráficos e/ou tabelas para mostrar a distribuição dos rótulos."
   ]
  },
  {
   "cell_type": "markdown",
   "metadata": {},
   "source": [
    "No gráfico abaixo são exibidas as 10 categorias de artigos mais frequentes do dataset do ArXiv. O dicionário abaixo têm o significado de cada sigla."
   ]
  },
  {
   "cell_type": "code",
   "execution_count": 66,
   "metadata": {},
   "outputs": [],
   "source": [
    "category_taxonomy = {\n",
    "    'cs.CV': 'Ciência da Computação: Visão Computacional',\n",
    "    'cs.LG': 'Ciência da Computação: Machine Learning',\n",
    "    'stat.ML': 'Estatística: Machine Learning',\n",
    "    'cs.AI': 'Ciência da Computação: Inteligência Artificial',\n",
    "    'eess.IV': 'Engenharia Elétrica: Processamento de imagem e vídeo',\n",
    "    'cs.RO': 'Ciência da Computação: Robótica',\n",
    "    'cs.CL': 'Ciência da Computação: Processamento de linguagem natural',\n",
    "    'cs.NE': 'Ciência da Computação: Computação neural e evolutica',\n",
    "    'I.2': 'I.2',\n",
    "    'cs.CR': 'Ciência da Computação: Criptografia e segurança'\n",
    "}"
   ]
  },
  {
   "cell_type": "code",
   "execution_count": 67,
   "metadata": {},
   "outputs": [
    {
     "data": {
      "text/plain": [
       "Text(0.5, 1.0, 'As 10 categorias de artigos mais frequentes no ArXiv')"
      ]
     },
     "execution_count": 67,
     "metadata": {},
     "output_type": "execute_result"
    },
    {
     "data": {
      "image/png": "[encoded data removed]",
      "text/plain": [
       "<Figure size 1800x900 with 1 Axes>"
      ]
     },
     "metadata": {
      "needs_background": "light"
     },
     "output_type": "display_data"
    }
   ],
   "source": [
    "import matplotlib.pyplot as plt\n",
    "import seaborn as sns\n",
    "\n",
    "data = 100*(y.sum().to_frame() / y.sum().sum())\n",
    "data['terms'] = data.index\n",
    "plt.figure(figsize=(12, 6), dpi=150)\n",
    "ax = sns.barplot(data=data.sort_values(by=0, ascending=False)[:10], y='terms', x=0, color='b')\n",
    "ax.set_xlabel('Frequência (%)')\n",
    "ax.set_ylabel('')\n",
    "ax.set_title('As 10 categorias de artigos mais frequentes no ArXiv', fontsize=20)"
   ]
  },
  {
   "cell_type": "markdown",
   "metadata": {},
   "source": [
    "Ciência da Computação (cs) é a área de estudo predominantes nos artigos deste dataset. E dentro da Ciência da Computação os temas mais comuns são Visão Computacional e Processamento de Linguagem Natural. Estes dois temas juntos estão presentes em quase 60% de todos os artigos disponíveis neste dataset. Tais resultados refletem a importância que se têm dados a esses temas nos últimos anos. Com o aumento da capacidade computacional foram desenvolvidos modelos avançados capazes de processarem a complexidade existente nestes temas."
   ]
  },
  {
   "cell_type": "markdown",
   "metadata": {},
   "source": [
    "### Questão 3) Escolha uma metodologia para extração de características considerando somente o título dos artigos científicos."
   ]
  },
  {
   "cell_type": "markdown",
   "metadata": {},
   "source": [
    "A função `extract_features` realiza a extração das características de um texto utilizando os métodos `CountVectorizer` e `TfidTransformer`."
   ]
  },
  {
   "cell_type": "code",
   "execution_count": 68,
   "metadata": {},
   "outputs": [],
   "source": [
    "from sklearn.feature_extraction.text import CountVectorizer\n",
    "from sklearn.feature_extraction.text import TfidfTransformer\n",
    "\n",
    "def extract_features(text_list, ngram_range=(2, 2)):\n",
    "    vectorizer = CountVectorizer(analyzer='word', ngram_range=ngram_range)\n",
    "    tfidf_transformer = TfidfTransformer()\n",
    "    X_train_counts = vectorizer.fit_transform(text_list)\n",
    "    X_train_tfidf = tfidf_transformer.fit_transform(X_train_counts)\n",
    "    X = X_train_tfidf\n",
    "    return X\n"
   ]
  },
  {
   "cell_type": "markdown",
   "metadata": {},
   "source": [
    "Extração das características dos títulos."
   ]
  },
  {
   "cell_type": "code",
   "execution_count": 69,
   "metadata": {},
   "outputs": [],
   "source": [
    "X_features = extract_features(titles)"
   ]
  },
  {
   "cell_type": "markdown",
   "metadata": {},
   "source": [
    "### Questão 4) Implemente o processo de classificação multi rótulos. Implemente 3 classificadores diferentes e compare suas performances. Escolha duas métricas distintas de sua escolha. Justifique suas escolhas e interprete os resultados."
   ]
  },
  {
   "cell_type": "code",
   "execution_count": null,
   "metadata": {},
   "outputs": [],
   "source": [
    "from sklearn.model_selection import train_test_split\n",
    "from sklearn.multiclass import OneVsRestClassifier\n",
    "\n",
    "# Função para classificação de textos\n",
    "def make_classification(X, y, text, model, test_size=0.2):\n",
    "    split_validation = train_test_split(X, y, text, test_size=test_size, random_state=10)\n",
    "\n",
    "    (X_train, X_test)       = split_validation[:2]\n",
    "    (y_train, y_test)       = split_validation[2:4]\n",
    "    (text_train, text_test) = split_validation[4:]\n",
    "\n",
    "    clf = OneVsRestClassifier(model)\n",
    "    clf.fit(X_train, y_train)\n",
    "\n",
    "    y_pred = clf.predict(X_test)\n",
    "\n",
    "    return y_test, y_pred"
   ]
  },
  {
   "cell_type": "markdown",
   "metadata": {},
   "source": [
    "Como métricas de avaliação foram escolhidas:\n",
    "* **f1_score** : Que é a média harmônica entre Precisão e Recall. Varia de 0 a 1. Quanto mais próximo de 1 melhor o modelo.\n",
    "* **ROC AUC** : Área da curva ROC. Mede a qualidade das previsões do modelo, independentemente do limiar de classificação.. Assume valores entre 0 e 1 em que 1 seria o resultado ideal. Bons modelos devem ter AUC maiores que 0.5.\n",
    "* **log-loss** : Esta é a função de perda usada na regressão logística (multinomial) e em suas extensões, como redes neurais, definida como a probabilidade logarítmica negativa de um modelo logístico que retorna probabilidades y_pred para seus dados de treinamento y_true. Assume valores entre 0 e infinto. Quanto mais próximo de zero melhor o modelo.\n",
    "\n",
    "Tais métricas foram escolhidas por serem recomendadas para o uso em casos onde há desbalanceamento de classes."
   ]
  },
  {
   "cell_type": "code",
   "execution_count": 85,
   "metadata": {},
   "outputs": [],
   "source": [
    "from sklearn.metrics import f1_score, roc_auc_score, log_loss\n",
    "\n",
    "# Função para avaliação dos modelos\n",
    "def evaluate_model(y_true, y_pred):\n",
    "    f1 = f1_score(y_true, y_pred, average='micro')\n",
    "    roc_auc = roc_auc_score(y_true, y_pred, average='micro')\n",
    "    logloss = log_loss(y_true, y_pred)\n",
    "\n",
    "    return pd.DataFrame([f1, roc_auc, logloss], index=['f1-score', 'ROC AUC', 'log-loss'])"
   ]
  },
  {
   "cell_type": "markdown",
   "metadata": {},
   "source": [
    "Foram escolhidos três modelos de classificação:\n",
    "* **SGDClassifier** : Modelo de classificação baseado em SVM.\n",
    "* **LogisticRegression** : Modelo de classificação utilizando regressão logística\n",
    "* **RidgeClassifier** : Esse classificador primeiro converte os valores de destino em {-1, 1} e, em seguida, trata o problema como uma tarefa de regressão (regressão de várias saídas no caso de multiclasse)."
   ]
  },
  {
   "cell_type": "code",
   "execution_count": 88,
   "metadata": {},
   "outputs": [
    {
     "name": "stderr",
     "output_type": "stream",
     "text": [
      "c:\\Users\\duart\\miniconda3\\lib\\site-packages\\sklearn\\linear_model\\_logistic.py:814: ConvergenceWarning: lbfgs failed to converge (status=1):\n",
      "STOP: TOTAL NO. of ITERATIONS REACHED LIMIT.\n",
      "\n",
      "Increase the number of iterations (max_iter) or scale the data as shown in:\n",
      "    https://scikit-learn.org/stable/modules/preprocessing.html\n",
      "Please also refer to the documentation for alternative solver options:\n",
      "    https://scikit-learn.org/stable/modules/linear_model.html#logistic-regression\n",
      "  n_iter_i = _check_optimize_result(\n",
      "c:\\Users\\duart\\miniconda3\\lib\\site-packages\\sklearn\\linear_model\\_logistic.py:814: ConvergenceWarning: lbfgs failed to converge (status=1):\n",
      "STOP: TOTAL NO. of ITERATIONS REACHED LIMIT.\n",
      "\n",
      "Increase the number of iterations (max_iter) or scale the data as shown in:\n",
      "    https://scikit-learn.org/stable/modules/preprocessing.html\n",
      "Please also refer to the documentation for alternative solver options:\n",
      "    https://scikit-learn.org/stable/modules/linear_model.html#logistic-regression\n",
      "  n_iter_i = _check_optimize_result(\n"
     ]
    },
    {
     "data": {
      "text/html": [
       "<div>\n",
       "<style scoped>\n",
       "    .dataframe tbody tr th:only-of-type {\n",
       "        vertical-align: middle;\n",
       "    }\n",
       "\n",
       "    .dataframe tbody tr th {\n",
       "        vertical-align: top;\n",
       "    }\n",
       "\n",
       "    .dataframe thead th {\n",
       "        text-align: right;\n",
       "    }\n",
       "</style>\n",
       "<table border=\"1\" class=\"dataframe\">\n",
       "  <thead>\n",
       "    <tr style=\"text-align: right;\">\n",
       "      <th></th>\n",
       "      <th>SGD</th>\n",
       "      <th>Logistic</th>\n",
       "      <th>Ridge</th>\n",
       "    </tr>\n",
       "  </thead>\n",
       "  <tbody>\n",
       "    <tr>\n",
       "      <th>f1-score</th>\n",
       "      <td>0.647178</td>\n",
       "      <td>0.657984</td>\n",
       "      <td>0.674472</td>\n",
       "    </tr>\n",
       "    <tr>\n",
       "      <th>ROC AUC</th>\n",
       "      <td>0.779097</td>\n",
       "      <td>0.781975</td>\n",
       "      <td>0.789817</td>\n",
       "    </tr>\n",
       "    <tr>\n",
       "      <th>log-loss</th>\n",
       "      <td>30.277879</td>\n",
       "      <td>29.923460</td>\n",
       "      <td>28.849260</td>\n",
       "    </tr>\n",
       "  </tbody>\n",
       "</table>\n",
       "</div>"
      ],
      "text/plain": [
       "                SGD   Logistic      Ridge\n",
       "f1-score   0.647178   0.657984   0.674472\n",
       "ROC AUC    0.779097   0.781975   0.789817\n",
       "log-loss  30.277879  29.923460  28.849260"
      ]
     },
     "execution_count": 88,
     "metadata": {},
     "output_type": "execute_result"
    }
   ],
   "source": [
    "from sklearn.linear_model import SGDClassifier\n",
    "from sklearn.linear_model import LogisticRegression\n",
    "from sklearn.linear_model import RidgeClassifier\n",
    "\n",
    "svm = SGDClassifier() \n",
    "y_test, y_pred = make_classification(X_features, y, titles, svm)\n",
    "metrics = evaluate_model(y_test, y_pred)\n",
    "\n",
    "lr = LogisticRegression()\n",
    "y_test, y_pred2 = make_classification(X_features, y, titles, lr)\n",
    "metrics = pd.concat([metrics, evaluate_model(y_test, y_pred2)], axis=1)\n",
    "\n",
    "rc = RidgeClassifier()\n",
    "y_test, y_pred2 = make_classification(X_features, y, titles, rc)\n",
    "metrics = pd.concat([metrics, evaluate_model(y_test, y_pred2)], axis=1)\n",
    "\n",
    "metrics.columns = ['SGD', 'Logistic', 'Ridge']\n",
    "metrics"
   ]
  },
  {
   "cell_type": "markdown",
   "metadata": {},
   "source": [
    "Os resultados obtidos que o modelo utilizado o classificador Ridge teve os melhor desempenho em todas as métricas. Em segundo esta a Regressão Logísticas e por último o SGD."
   ]
  },
  {
   "cell_type": "markdown",
   "metadata": {},
   "source": [
    "### Questão 5) Replique os mesmos experimentos de extração de características e classificação considerando somente a coluna abstract."
   ]
  },
  {
   "cell_type": "markdown",
   "metadata": {},
   "source": [
    "Extração de características para os sumários."
   ]
  },
  {
   "cell_type": "code",
   "execution_count": 73,
   "metadata": {},
   "outputs": [],
   "source": [
    "X_features_summaries = extract_features(summaries)"
   ]
  },
  {
   "cell_type": "markdown",
   "metadata": {},
   "source": [
    "Classificação dos artigos utilizandos as características dos resumos."
   ]
  },
  {
   "cell_type": "code",
   "execution_count": 92,
   "metadata": {},
   "outputs": [
    {
     "data": {
      "text/html": [
       "<div>\n",
       "<style scoped>\n",
       "    .dataframe tbody tr th:only-of-type {\n",
       "        vertical-align: middle;\n",
       "    }\n",
       "\n",
       "    .dataframe tbody tr th {\n",
       "        vertical-align: top;\n",
       "    }\n",
       "\n",
       "    .dataframe thead th {\n",
       "        text-align: right;\n",
       "    }\n",
       "</style>\n",
       "<table border=\"1\" class=\"dataframe\">\n",
       "  <thead>\n",
       "    <tr style=\"text-align: right;\">\n",
       "      <th></th>\n",
       "      <th>SGD</th>\n",
       "      <th>Logistic</th>\n",
       "      <th>Ridge</th>\n",
       "    </tr>\n",
       "  </thead>\n",
       "  <tbody>\n",
       "    <tr>\n",
       "      <th>f1-score</th>\n",
       "      <td>0.695095</td>\n",
       "      <td>0.698763</td>\n",
       "      <td>0.714576</td>\n",
       "    </tr>\n",
       "    <tr>\n",
       "      <th>ROC AUC</th>\n",
       "      <td>0.787496</td>\n",
       "      <td>0.794490</td>\n",
       "      <td>0.805036</td>\n",
       "    </tr>\n",
       "    <tr>\n",
       "      <th>log-loss</th>\n",
       "      <td>29.264126</td>\n",
       "      <td>28.336505</td>\n",
       "      <td>26.942006</td>\n",
       "    </tr>\n",
       "  </tbody>\n",
       "</table>\n",
       "</div>"
      ],
      "text/plain": [
       "                SGD   Logistic      Ridge\n",
       "f1-score   0.695095   0.698763   0.714576\n",
       "ROC AUC    0.787496   0.794490   0.805036\n",
       "log-loss  29.264126  28.336505  26.942006"
      ]
     },
     "execution_count": 92,
     "metadata": {},
     "output_type": "execute_result"
    }
   ],
   "source": [
    "svm = SGDClassifier() \n",
    "y_test, y_pred = make_classification(X_features_summaries, y, summaries, svm)\n",
    "metrics_summaries = evaluate_model(y_test, y_pred)\n",
    "\n",
    "lr = LogisticRegression()\n",
    "y_test, y_pred2 = make_classification(X_features_summaries, y, summaries, lr)\n",
    "metrics_summaries = pd.concat([metrics_summaries, evaluate_model(y_test, y_pred2)], axis=1)\n",
    "\n",
    "rc = RidgeClassifier()\n",
    "y_test, y_pred2 = make_classification(X_features_summaries, y, summaries, rc)\n",
    "metrics_summaries = pd.concat([metrics_summaries, evaluate_model(y_test, y_pred2)], axis=1)\n",
    "\n",
    "metrics_summaries.columns = ['SGD', 'Logistic', 'Ridge']\n",
    "metrics_summaries"
   ]
  },
  {
   "cell_type": "markdown",
   "metadata": {},
   "source": [
    "Novamente o rank da questão anterior foi mantido."
   ]
  },
  {
   "cell_type": "markdown",
   "metadata": {},
   "source": [
    "### Questão 6) Compare os resultados obtidos dos titles e abstracts. Qual atributo é mais discriminativo?"
   ]
  },
  {
   "cell_type": "markdown",
   "metadata": {},
   "source": [
    "Os resultados obtidos utilizando os resumos foram melhores que aqueles obtidos utilizando apenas os títulos. Os resumos são mais discriminativos que os títulos devido a quantidade de informação que contém. Geralmente os títulos são formulados de maneira a serem chamativos e generalistas e acabam não refletindo todo o conteúdo dos artigos. Já os resumos são elaborados de forma a sintetizar todo o conteúdo do artigo. Nos resumos encontra-se as ideias principais do trabalho, palavras chaves, metodologia e conclusões. Todas estas informações reunidas são as responsáveis por tornarem os resumos como melhores discriminantes para identificar a qual ou quais categorias determinado artigo pertence."
   ]
  },
  {
   "cell_type": "code",
   "execution_count": null,
   "metadata": {},
   "outputs": [],
   "source": []
  }
 ],
 "metadata": {
  "kernelspec": {
   "display_name": "Python 3 (ipykernel)",
   "language": "python",
   "name": "python3"
  },
  "language_info": {
   "codemirror_mode": {
    "name": "ipython",
    "version": 3
   },
   "file_extension": ".py",
   "mimetype": "text/x-python",
   "name": "python",
   "nbconvert_exporter": "python",
   "pygments_lexer": "ipython3",
   "version": "3.8.10"
  },
  "vscode": {
   "interpreter": {
    "hash": "f8982e1f4ab427bb87d5be74831db1f094ba5a856f389ce2aee8b2f4fb023e4a"
   }
  }
 },
 "nbformat": 4,
 "nbformat_minor": 2
}
